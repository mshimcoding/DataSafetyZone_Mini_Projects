{
 "cells": [
  {
   "cell_type": "markdown",
   "id": "0399aaf4-fc77-4922-8522-0c0a5b37afa1",
   "metadata": {
    "tags": []
   },
   "source": [
    "# 셀레니움을 활용한 동적페이지 크롤링\n",
    "\n",
    "## 특정 크리에이터의 영상 다운로드 받기"
   ]
  },
  {
   "cell_type": "markdown",
   "id": "fdeda1c2-c430-4042-9fd5-927cfa4dd3eb",
   "metadata": {},
   "source": [
    "### 사용할 라이브러리 불러오기"
   ]
  },
  {
   "cell_type": "code",
   "execution_count": 2,
   "id": "fadbde63-f69f-4554-990a-caf7daeb043e",
   "metadata": {},
   "outputs": [],
   "source": [
    "# !pip install selenium\n",
    "# !pip install pytube"
   ]
  },
  {
   "cell_type": "code",
   "execution_count": 6,
   "id": "f6a8a93e-a580-4005-b05f-1e765b50834a",
   "metadata": {},
   "outputs": [],
   "source": [
    "import time\n",
    "import requests\n",
    "from bs4 import BeautifulSoup\n",
    "from selenium import webdriver\n",
    "from selenium.webdriver.common.keys import Keys\n",
    "from selenium.webdriver.common.by import By\n",
    "from pytube import YouTube\n",
    "\n",
    "from selenium.webdriver.chrome.service import Service\n",
    "from webdriver_manager.chrome import ChromeDriverManager"
   ]
  },
  {
   "cell_type": "markdown",
   "id": "2f254898-07d8-402f-bcad-db4a69104852",
   "metadata": {},
   "source": [
    "https://selenium-python.readthedocs.io/"
   ]
  },
  {
   "cell_type": "markdown",
   "id": "741cb04c-96b5-4680-aabb-a0134a7020e4",
   "metadata": {},
   "source": [
    "https://pytube.io/en/latest/"
   ]
  },
  {
   "cell_type": "markdown",
   "id": "66757530-1df7-48ad-9d5f-3e402f4baba2",
   "metadata": {
    "tags": []
   },
   "source": [
    "# 셀레니움 예제코드로 살펴보기"
   ]
  },
  {
   "cell_type": "code",
   "execution_count": 3,
   "id": "1fadbeb4-9a34-43ce-ad72-b806624ae195",
   "metadata": {
    "tags": []
   },
   "outputs": [
    {
     "name": "stderr",
     "output_type": "stream",
     "text": [
      "/var/folders/t6/j7wv8qls0v5_j2dh9m_bwc900000gn/T/ipykernel_948/2607529396.py:5: DeprecationWarning: executable_path has been deprecated, please pass in a Service object\n",
      "  driver = webdriver.Chrome(DRIVER_DIR)\n"
     ]
    }
   ],
   "source": [
    "from selenium import webdriver\n",
    "from selenium.webdriver.common.keys import Keys\n",
    "from selenium.webdriver.common.by import By\n",
    "DRIVER_DIR= './chromedriver'\n",
    "driver = webdriver.Chrome(DRIVER_DIR)"
   ]
  },
  {
   "cell_type": "code",
   "execution_count": 4,
   "id": "651fc5ac-f372-4525-bcbb-6e29d0f49fe9",
   "metadata": {},
   "outputs": [
    {
     "name": "stdout",
     "output_type": "stream",
     "text": [
      "Find Python!!\n"
     ]
    }
   ],
   "source": [
    "driver.get(\"http://www.python.org\")\n",
    "if \"Python\" in driver.title:\n",
    "    print(\"Find Python!!\")"
   ]
  },
  {
   "cell_type": "code",
   "execution_count": 5,
   "id": "e31ffe86-c261-4a2e-9501-9b13425689b0",
   "metadata": {},
   "outputs": [],
   "source": [
    "elem = driver.find_element(By.NAME, \"q\")\n",
    "# elem.clear()"
   ]
  },
  {
   "cell_type": "code",
   "execution_count": 6,
   "id": "c4e1750e-a65d-4c7f-a337-5f7f87acaddb",
   "metadata": {},
   "outputs": [],
   "source": [
    "elem.send_keys(\"asdf\")\n",
    "elem.send_keys(Keys.RETURN)"
   ]
  },
  {
   "cell_type": "code",
   "execution_count": 7,
   "id": "07c8664d-fec7-45c8-91cf-4279ae1a594b",
   "metadata": {
    "tags": []
   },
   "outputs": [
    {
     "name": "stdout",
     "output_type": "stream",
     "text": [
      "There is no result\n"
     ]
    }
   ],
   "source": [
    "if \"No results found\" in driver.page_source:\n",
    "    print(\"There is no result\")\n",
    "else:\n",
    "    print(\"Success!!\")"
   ]
  },
  {
   "cell_type": "code",
   "execution_count": 8,
   "id": "f8375e32-4bc8-4ad4-b3bd-5ba759f25060",
   "metadata": {},
   "outputs": [],
   "source": [
    "driver.close()"
   ]
  },
  {
   "cell_type": "markdown",
   "id": "fd4a9358-a8e5-4ef2-81ca-2d966316f5e9",
   "metadata": {
    "tags": []
   },
   "source": [
    "# Pytube Sample 살펴보기"
   ]
  },
  {
   "cell_type": "markdown",
   "id": "3534ab41-1778-4d15-baf3-9a87691758ad",
   "metadata": {},
   "source": [
    "https://pytube.io/en/latest/user/quickstart.html"
   ]
  },
  {
   "cell_type": "code",
   "execution_count": 4,
   "id": "1c2a0a88-9b86-4b48-80cd-888e841d1726",
   "metadata": {},
   "outputs": [],
   "source": [
    "link = 'https://www.youtube.com/watch?v=UqDRc8zw_1k'\n",
    "yt = YouTube(link)"
   ]
  },
  {
   "cell_type": "code",
   "execution_count": 10,
   "id": "98164c2b-a1a1-41d5-8045-5ecc9cb7a356",
   "metadata": {},
   "outputs": [
    {
     "data": {
      "text/plain": [
       "\"[날씨] 주말 전국 맑은 하늘…'아침저녁 선선' 일교차 주의 / SBS\""
      ]
     },
     "execution_count": 10,
     "metadata": {},
     "output_type": "execute_result"
    }
   ],
   "source": [
    "yt.title"
   ]
  },
  {
   "cell_type": "code",
   "execution_count": 11,
   "id": "1634100a-cbc7-4593-ba00-635f5fbf25fc",
   "metadata": {},
   "outputs": [
    {
     "data": {
      "text/plain": [
       "[<Stream: itag=\"18\" mime_type=\"video/mp4\" res=\"360p\" fps=\"30fps\" vcodec=\"avc1.42001E\" acodec=\"mp4a.40.2\" progressive=\"True\" type=\"video\">, <Stream: itag=\"22\" mime_type=\"video/mp4\" res=\"720p\" fps=\"30fps\" vcodec=\"avc1.64001F\" acodec=\"mp4a.40.2\" progressive=\"True\" type=\"video\">, <Stream: itag=\"137\" mime_type=\"video/mp4\" res=\"1080p\" fps=\"30fps\" vcodec=\"avc1.640028\" progressive=\"False\" type=\"video\">, <Stream: itag=\"136\" mime_type=\"video/mp4\" res=\"720p\" fps=\"30fps\" vcodec=\"avc1.64001f\" progressive=\"False\" type=\"video\">, <Stream: itag=\"135\" mime_type=\"video/mp4\" res=\"480p\" fps=\"30fps\" vcodec=\"avc1.4d401f\" progressive=\"False\" type=\"video\">, <Stream: itag=\"134\" mime_type=\"video/mp4\" res=\"360p\" fps=\"30fps\" vcodec=\"avc1.4d401e\" progressive=\"False\" type=\"video\">, <Stream: itag=\"133\" mime_type=\"video/mp4\" res=\"240p\" fps=\"30fps\" vcodec=\"avc1.4d4015\" progressive=\"False\" type=\"video\">, <Stream: itag=\"160\" mime_type=\"video/mp4\" res=\"144p\" fps=\"30fps\" vcodec=\"avc1.4d400c\" progressive=\"False\" type=\"video\">, <Stream: itag=\"139\" mime_type=\"audio/mp4\" abr=\"48kbps\" acodec=\"mp4a.40.5\" progressive=\"False\" type=\"audio\">, <Stream: itag=\"140\" mime_type=\"audio/mp4\" abr=\"128kbps\" acodec=\"mp4a.40.2\" progressive=\"False\" type=\"audio\">]"
      ]
     },
     "execution_count": 11,
     "metadata": {},
     "output_type": "execute_result"
    }
   ],
   "source": [
    "yt.streams.filter(file_extension='mp4')"
   ]
  },
  {
   "cell_type": "code",
   "execution_count": 12,
   "id": "60db4549-8183-45ed-b2c1-780935ede914",
   "metadata": {},
   "outputs": [
    {
     "data": {
      "text/plain": [
       "'/Users/zel0rd/Documents/강의/대검사이버수사/04. 데이터 수집기술/[날씨] 주말 전국 맑은 하늘…아침저녁 선선 일교차 주의  SBS.mp4'"
      ]
     },
     "execution_count": 12,
     "metadata": {},
     "output_type": "execute_result"
    }
   ],
   "source": [
    "stream = yt.streams.get_by_itag(22)\n",
    "stream.download()"
   ]
  },
  {
   "cell_type": "code",
   "execution_count": 13,
   "id": "93c8035c-7909-40da-94ee-b5a8ea4ce713",
   "metadata": {},
   "outputs": [],
   "source": [
    "# !pip install selenium\n",
    "# !pip install pytube"
   ]
  },
  {
   "cell_type": "markdown",
   "id": "f82c8c78-9454-4e26-abff-05d02ee573de",
   "metadata": {},
   "source": [
    "## 셀레니움 동작해보기"
   ]
  },
  {
   "cell_type": "code",
   "execution_count": 7,
   "id": "514c7a6c-2e98-4526-ad8c-0cf97828379c",
   "metadata": {},
   "outputs": [],
   "source": [
    "# url = 'https://www.youtube.com/sbs8news/videos'\n",
    "url = 'https://www.youtube.com/c/MBCNEWS11/videos'\n",
    "# DRIVER_DIR= './chromedriver'"
   ]
  },
  {
   "cell_type": "code",
   "execution_count": 8,
   "id": "b962a50c-d770-4d3b-bafc-1088bd084daa",
   "metadata": {},
   "outputs": [],
   "source": [
    "# driver = webdriver.Chrome(DRIVER_DIR)\n",
    "driver = webdriver.Chrome(service=Service(ChromeDriverManager().install()))\n"
   ]
  },
  {
   "cell_type": "code",
   "execution_count": 9,
   "id": "26c61af5-5164-42df-bd55-9e3d05575198",
   "metadata": {},
   "outputs": [],
   "source": [
    "driver.get(url)"
   ]
  },
  {
   "cell_type": "code",
   "execution_count": 10,
   "id": "3197a837-e85f-4d05-b717-208ec95db715",
   "metadata": {},
   "outputs": [],
   "source": [
    "elem = driver.find_element(By.TAG_NAME, \"body\")"
   ]
  },
  {
   "cell_type": "code",
   "execution_count": 11,
   "id": "c5a6db12-5a6c-472b-bb8c-0d2ffe96027b",
   "metadata": {},
   "outputs": [],
   "source": [
    "for i in range(2):\n",
    "    elem.send_keys(Keys.PAGE_DOWN)\n",
    "    time.sleep(1)"
   ]
  },
  {
   "cell_type": "markdown",
   "id": "7377c1d4-392d-4372-bc6b-bac072ba3a67",
   "metadata": {},
   "source": [
    "## html 파싱하기"
   ]
  },
  {
   "cell_type": "code",
   "execution_count": 19,
   "id": "864a0e0f-75ff-4708-89b2-16fd8f452683",
   "metadata": {
    "tags": []
   },
   "outputs": [
    {
     "data": {
      "text/plain": [
       "30"
      ]
     },
     "execution_count": 19,
     "metadata": {},
     "output_type": "execute_result"
    }
   ],
   "source": [
    "elem = driver.find_elements(By.CSS_SELECTOR,'#video-title')#[0].get_attribute('href')\n",
    "links = []\n",
    "for i in elem:\n",
    "    links.append(i.get_attribute('href'))\n",
    "len(links)"
   ]
  },
  {
   "cell_type": "code",
   "execution_count": 14,
   "id": "424d127e-54be-4387-b068-c79879eff1c3",
   "metadata": {},
   "outputs": [],
   "source": [
    "html = driver.page_source"
   ]
  },
  {
   "cell_type": "code",
   "execution_count": 15,
   "id": "c18e832c-86aa-4c72-a4fc-6d509a42e780",
   "metadata": {
    "tags": []
   },
   "outputs": [],
   "source": [
    "# html"
   ]
  },
  {
   "cell_type": "code",
   "execution_count": 16,
   "id": "186260f0-c86f-4f0d-a532-6338473ced79",
   "metadata": {
    "collapsed": true,
    "jupyter": {
     "outputs_hidden": true
    },
    "tags": []
   },
   "outputs": [
    {
     "data": {
      "text/plain": [
       "[<a aria-label=\"[보이는 뉴스] 구름 먹어치우며 한반도로.. 천리안위성서 본 힌남노 (2022.09.02/MBC뉴스) 게시자: MBCNEWS 14분 전 1분 14초 조회수 16,695회\" class=\"yt-simple-endpoint style-scope ytd-grid-video-renderer\" href=\"/watch?v=bfVne9bvWYw\" id=\"video-title\" title=\"[보이는 뉴스] 구름 먹어치우며 한반도로.. 천리안위성서 본 힌남노 (2022.09.02/MBC뉴스)\">[보이는 뉴스] 구름 먹어치우며 한반도로.. 천리안위성서 본 힌남노 (2022.09.02/MBC뉴스)</a>,\n",
       " <a aria-label=\"이재명 소환과 김건희 여사... 정치보복 논란 [LIVE] MBC '외전의 외전' 2022년 9월 1일 게시자: MBCNEWS 조회수 49,498회\" class=\"yt-simple-endpoint style-scope ytd-grid-video-renderer\" href=\"/watch?v=cYNq-2OibnE\" id=\"video-title\" title=\"이재명 소환과 김건희 여사... 정치보복 논란 [LIVE] MBC '외전의 외전' 2022년 9월 1일\">이재명 소환과 김건희 여사... 정치보복 논란 [LIVE] MBC '외전의 외전' 2022년 9월 1일</a>,\n",
       " <a aria-label=\"#Shorts / [이 시각 세계] 러시아 최대 민영 석유업체 이사회 의장 추락사 (2022.09.02/뉴스투데이/MBC) 게시자: MBCNEWS 1시간 전 46초 조회수 1,193회 - Shorts 동영상 재생\" class=\"yt-simple-endpoint style-scope ytd-grid-video-renderer\" href=\"/shorts/8Q28Rc2c3vk\" id=\"video-title\" title=\"#Shorts / [이 시각 세계] 러시아 최대 민영 석유업체 이사회 의장 추락사 (2022.09.02/뉴스투데이/MBC)\">#Shorts / [이 시각 세계] 러시아 최대 민영 석유업체 이사회 의장 추락사 (2022.09.02/뉴스투데이/MBC)</a>,\n",
       " <a aria-label=\"8월 소비자물가 5.7% 상승‥오름세 '주춤' (2022.09.02/12MBC뉴스) 게시자: MBCNEWS 2시간 전 2분 21초 조회수 1,693회\" class=\"yt-simple-endpoint style-scope ytd-grid-video-renderer\" href=\"/watch?v=OR06yNWyp-w\" id=\"video-title\" title=\"8월 소비자물가 5.7% 상승‥오름세 '주춤' (2022.09.02/12MBC뉴스)\">8월 소비자물가 5.7% 상승‥오름세 '주춤' (2022.09.02/12MBC뉴스)</a>,\n",
       " <a aria-label=\"[날씨] '힌남노' 북상, 다음 주 직접 영향‥제주·남해안 호우 대비 (2022.09.02/12MBC뉴스) 게시자: MBCNEWS 2시간 전 59초 조회수 9,153회\" class=\"yt-simple-endpoint style-scope ytd-grid-video-renderer\" href=\"/watch?v=DYzvgoAj5ds\" id=\"video-title\" title=\"[날씨] '힌남노' 북상, 다음 주 직접 영향‥제주·남해안 호우 대비 (2022.09.02/12MBC뉴스)\">[날씨] '힌남노' 북상, 다음 주 직접 영향‥제주·남해안 호우 대비 (2022.09.02/12MBC뉴스)</a>,\n",
       " <a aria-label=\"환율 장중 1천357원 돌파‥연고점 또 경신 (2022.09.02/12MBC뉴스) 게시자: MBCNEWS 2시간 전 27초 조회수 2,226회\" class=\"yt-simple-endpoint style-scope ytd-grid-video-renderer\" href=\"/watch?v=xwlTLyrQAD8\" id=\"video-title\" title=\"환율 장중 1천357원 돌파‥연고점 또 경신 (2022.09.02/12MBC뉴스)\">환율 장중 1천357원 돌파‥연고점 또 경신 (2022.09.02/12MBC뉴스)</a>,\n",
       " <a aria-label=\"미국 질병통제예방센터, 화이자·모더나 '오미크론 백신' 접종 승인 (2022.09.02/12MBC뉴스) 게시자: MBCNEWS 2시간 전 40초 조회수 3,788회\" class=\"yt-simple-endpoint style-scope ytd-grid-video-renderer\" href=\"/watch?v=mDjZw_kiQcU\" id=\"video-title\" title=\"미국 질병통제예방센터, 화이자·모더나 '오미크론 백신' 접종 승인 (2022.09.02/12MBC뉴스)\">미국 질병통제예방센터, 화이자·모더나 '오미크론 백신' 접종 승인 (2022.09.02/12MBC뉴스)</a>,\n",
       " <a aria-label=\"확진 8만 9천586명‥금요일 기준 5주 만에 최저 (2022.09.02/12MBC뉴스) 게시자: MBCNEWS 2시간 전 30초 조회수 569회\" class=\"yt-simple-endpoint style-scope ytd-grid-video-renderer\" href=\"/watch?v=drgIOtxBODE\" id=\"video-title\" title=\"확진 8만 9천586명‥금요일 기준 5주 만에 최저 (2022.09.02/12MBC뉴스)\">확진 8만 9천586명‥금요일 기준 5주 만에 최저 (2022.09.02/12MBC뉴스)</a>,\n",
       " <a aria-label=\"8월 소비자물가 5.7% 상승‥ 오름세 '주춤' - [LIVE] MBC 12시뉴스 2022년 09월 02일 게시자: MBCNEWS 스트리밍 시간: 2시간 전 19분 조회수 7,379회\" class=\"yt-simple-endpoint style-scope ytd-grid-video-renderer\" href=\"/watch?v=8yy1_GfprCc\" id=\"video-title\" title=\"8월 소비자물가 5.7% 상승‥ 오름세 '주춤' - [LIVE] MBC 12시뉴스 2022년 09월 02일\">8월 소비자물가 5.7% 상승‥ 오름세 '주춤' - [LIVE] MBC 12시뉴스 2022년 09월 02일</a>,\n",
       " <a aria-label=\"이준석·국민의힘 가처분 사건 14일 일괄 심문 (2022.09.02/12MBC뉴스) 게시자: MBCNEWS 2시간 전 58초 조회수 5,409회\" class=\"yt-simple-endpoint style-scope ytd-grid-video-renderer\" href=\"/watch?v=7zpXtNy5IH8\" id=\"video-title\" title=\"이준석·국민의힘 가처분 사건 14일 일괄 심문 (2022.09.02/12MBC뉴스)\">이준석·국민의힘 가처분 사건 14일 일괄 심문 (2022.09.02/12MBC뉴스)</a>,\n",
       " <a aria-label='\"검찰 만행\" vs \"수사 이제 시작\"‥여야 격돌 (2022.09.02/12MBC뉴스) 게시자: MBCNEWS 3시간 전 2분 12초 조회수 24,515회' class=\"yt-simple-endpoint style-scope ytd-grid-video-renderer\" href=\"/watch?v=T7AZdORkGPM\" id=\"video-title\" title='\"검찰 만행\" vs \"수사 이제 시작\"‥여야 격돌 (2022.09.02/12MBC뉴스)'>\"검찰 만행\" vs \"수사 이제 시작\"‥여야 격돌 (2022.09.02/12MBC뉴스)</a>,\n",
       " <a aria-label=\"[Live] MBC 뉴스 나우 - 2022년 9월 2일 게시자: MBCNEWS 조회수 17,046회\" class=\"yt-simple-endpoint style-scope ytd-grid-video-renderer\" href=\"/watch?v=0n7tdnc_Uwk\" id=\"video-title\" title=\"[Live] MBC 뉴스 나우 - 2022년 9월 2일\">[Live] MBC 뉴스 나우 - 2022년 9월 2일</a>,\n",
       " <a aria-label=\"더불어민주당 광주 현장 최고위원회의 - [끝까지 LIVE] MBC 중계방송 2022년 09월 02일 게시자: MBCNEWS 스트리밍 시간: 3시간 전 1시간 24분 조회수 39,440회\" class=\"yt-simple-endpoint style-scope ytd-grid-video-renderer\" href=\"/watch?v=CT2UrLqGwhI\" id=\"video-title\" title=\"더불어민주당 광주 현장 최고위원회의 - [끝까지 LIVE] MBC 중계방송 2022년 09월 02일\">더불어민주당 광주 현장 최고위원회의 - [끝까지 LIVE] MBC 중계방송 2022년 09월 02일</a>,\n",
       " <a aria-label=\"'빼빼로데이에는 삐삐머리'‥용역업체 콜센터 황당 갑질 (2022.08.22/뉴스데스크/MBC) 게시자: MBCNEWS 3시간 전 2분 34초 조회수 3,109회\" class=\"yt-simple-endpoint style-scope ytd-grid-video-renderer\" href=\"/watch?v=Zpla8Jo9pk8\" id=\"video-title\" title=\"'빼빼로데이에는 삐삐머리'‥용역업체 콜센터 황당 갑질 (2022.08.22/뉴스데스크/MBC)\">'빼빼로데이에는 삐삐머리'‥용역업체 콜센터 황당 갑질 (2022.08.22/뉴스데스크/MBC)</a>,\n",
       " <a aria-label=\"#Shorts / [이 시각 세계] 대만군, 중국 무인기 첫 격추 (2022.09.02/뉴스투데이/MBC) 게시자: MBCNEWS 3시간 전 46초 조회수 2,596회 - Shorts 동영상 재생\" class=\"yt-simple-endpoint style-scope ytd-grid-video-renderer\" href=\"/shorts/nVpnnXtO_AE\" id=\"video-title\" title=\"#Shorts / [이 시각 세계] 대만군, 중국 무인기 첫 격추 (2022.09.02/뉴스투데이/MBC)\">#Shorts / [이 시각 세계] 대만군, 중국 무인기 첫 격추 (2022.09.02/뉴스투데이/MBC)</a>,\n",
       " <a aria-label=\"아파트 신축 공사 현장서 불, 용접 중 튄 불티로 시작 추정 (2022.09.01/뉴스투데이/부산MBC) 게시자: MBCNEWS 3시간 전 1분 45초 조회수 31,066회\" class=\"yt-simple-endpoint style-scope ytd-grid-video-renderer\" href=\"/watch?v=jFDYwL3ukGI\" id=\"video-title\" title=\"아파트 신축 공사 현장서 불, 용접 중 튄 불티로 시작 추정 (2022.09.01/뉴스투데이/부산MBC)\">아파트 신축 공사 현장서 불, 용접 중 튄 불티로 시작 추정 (2022.09.01/뉴스투데이/부산MBC)</a>,\n",
       " <a aria-label=\"'코로나19' 중앙재난안전대책본부 브리핑 - [끝까지 LIVE] MBC 뉴스특보 2022년 09월 02일 게시자: MBCNEWS 스트리밍 시간: 4시간 전 8분 1초 조회수 1,257회\" class=\"yt-simple-endpoint style-scope ytd-grid-video-renderer\" href=\"/watch?v=ROLgtaCayyM\" id=\"video-title\" title=\"'코로나19' 중앙재난안전대책본부 브리핑 - [끝까지 LIVE] MBC 뉴스특보 2022년 09월 02일\">'코로나19' 중앙재난안전대책본부 브리핑 - [끝까지 LIVE] MBC 뉴스특보 2022년 09월 02일</a>,\n",
       " <a aria-label=\"#Shorts / [재택플러스] &quot;점심만? 난 저녁도!&quot;‥해결사 '구내식당' (2022.09.02/뉴스투데이/MBC) 게시자: MBCNEWS 4시간 전 57초 조회수 3,248회 - Shorts 동영상 재생\" class=\"yt-simple-endpoint style-scope ytd-grid-video-renderer\" href=\"/shorts/ZP2HVwSqrjg\" id=\"video-title\" title=\"#Shorts / [재택플러스] &quot;점심만? 난 저녁도!&quot;‥해결사 '구내식당' (2022.09.02/뉴스투데이/MBC)\">#Shorts / [재택플러스] \"점심만? 난 저녁도!\"‥해결사 '구내식당' (2022.09.02/뉴스투데이/MBC)</a>,\n",
       " <a aria-label=\"2년 지난 한우 냉동고에 가득, 원산지 속이고 버젓이 유통 (2022.09.01/뉴스투데이/부산MBC) 게시자: MBCNEWS 4시간 전 1분 59초 조회수 7,340회\" class=\"yt-simple-endpoint style-scope ytd-grid-video-renderer\" href=\"/watch?v=SFRxf38KbxY\" id=\"video-title\" title=\"2년 지난 한우 냉동고에 가득, 원산지 속이고 버젓이 유통 (2022.09.01/뉴스투데이/부산MBC)\">2년 지난 한우 냉동고에 가득, 원산지 속이고 버젓이 유통 (2022.09.01/뉴스투데이/부산MBC)</a>,\n",
       " <a aria-label=\"국민의힘 상임 전국위원회의 - [끝까지 LIVE] MBC 중계방송 2022년 09월 02일 게시자: MBCNEWS 스트리밍 시간: 4시간 전 16분 조회수 1,102회\" class=\"yt-simple-endpoint style-scope ytd-grid-video-renderer\" href=\"/watch?v=VxAJSheQcvo\" id=\"video-title\" title=\"국민의힘 상임 전국위원회의 - [끝까지 LIVE] MBC 중계방송 2022년 09월 02일\">국민의힘 상임 전국위원회의 - [끝까지 LIVE] MBC 중계방송 2022년 09월 02일</a>,\n",
       " <a aria-label=\"#Shorts / [와글와글] 110년 전 침몰한 타이태닉 호‥초고화질 기술로 포착 (2022.09.02/뉴스투데이/MBC) 게시자: MBCNEWS 4시간 전 48초 조회수 5,616회 - Shorts 동영상 재생\" class=\"yt-simple-endpoint style-scope ytd-grid-video-renderer\" href=\"/shorts/3bp6fNH02D0\" id=\"video-title\" title=\"#Shorts / [와글와글] 110년 전 침몰한 타이태닉 호‥초고화질 기술로 포착 (2022.09.02/뉴스투데이/MBC)\">#Shorts / [와글와글] 110년 전 침몰한 타이태닉 호‥초고화질 기술로 포착 (2022.09.02/뉴스투데이/MBC)</a>,\n",
       " <a aria-label=\"[날씨] 11호 '힌남노' 북상, 다음 주 직접 영향 (2022.09.02/930MBC뉴스) 게시자: MBCNEWS 4시간 전 1분 조회수 4,648회\" class=\"yt-simple-endpoint style-scope ytd-grid-video-renderer\" href=\"/watch?v=KbYiHKxyFj4\" id=\"video-title\" title=\"[날씨] 11호 '힌남노' 북상, 다음 주 직접 영향 (2022.09.02/930MBC뉴스)\">[날씨] 11호 '힌남노' 북상, 다음 주 직접 영향 (2022.09.02/930MBC뉴스)</a>,\n",
       " <a aria-label=\"국민의힘, 오늘 상임전국위‥당헌 개정 착수 (2022.09.02/930MBC뉴스) 게시자: MBCNEWS 5시간 전 18초 조회수 736회\" class=\"yt-simple-endpoint style-scope ytd-grid-video-renderer\" href=\"/watch?v=4emdu1T8gwQ\" id=\"video-title\" title=\"국민의힘, 오늘 상임전국위‥당헌 개정 착수 (2022.09.02/930MBC뉴스)\">국민의힘, 오늘 상임전국위‥당헌 개정 착수 (2022.09.02/930MBC뉴스)</a>,\n",
       " <a aria-label='한미일 안보수장 \"북핵 대응 확실히 다를 것\" (2022.09.02/930MBC뉴스) 게시자: MBCNEWS 5시간 전 1분 48초 조회수 766회' class=\"yt-simple-endpoint style-scope ytd-grid-video-renderer\" href=\"/watch?v=hAdunQk4x3o\" id=\"video-title\" title='한미일 안보수장 \"북핵 대응 확실히 다를 것\" (2022.09.02/930MBC뉴스)'>한미일 안보수장 \"북핵 대응 확실히 다를 것\" (2022.09.02/930MBC뉴스)</a>,\n",
       " <a aria-label=\"[보이는 뉴스] 북으로 방향 튼 '힌남노'..오키나와부터 때렸다 (2022.09.02/MBC뉴스) 게시자: MBCNEWS 5시간 전 1분 1초 조회수 1,362,809회\" class=\"yt-simple-endpoint style-scope ytd-grid-video-renderer\" href=\"/watch?v=ZudMXtlPbXM\" id=\"video-title\" title=\"[보이는 뉴스] 북으로 방향 튼 '힌남노'..오키나와부터 때렸다 (2022.09.02/MBC뉴스)\">[보이는 뉴스] 북으로 방향 튼 '힌남노'..오키나와부터 때렸다 (2022.09.02/MBC뉴스)</a>,\n",
       " <a aria-label=\"태풍 '힌남노' 오늘부터 북상..제주 남해안 비바람 시작 - [끝까지라이브] MBC뉴스 2022년 9월2일 게시자: MBCNEWS 조회수 373,705회\" class=\"yt-simple-endpoint style-scope ytd-grid-video-renderer\" href=\"/watch?v=_HXm78losyU\" id=\"video-title\" title=\"태풍 '힌남노' 오늘부터 북상..제주 남해안 비바람 시작 - [끝까지라이브] MBC뉴스 2022년 9월2일\">태풍 '힌남노' 오늘부터 북상..제주 남해안 비바람 시작 - [끝까지라이브] MBC뉴스 2022년 9월2일</a>,\n",
       " <a aria-label=\"한기정 공정거래위원장 후보자 국회 인사청문회 - [끝까지 LIVE] MBC 중계방송 2022년 09월 02일 게시자: MBCNEWS 조회수 6,479회\" class=\"yt-simple-endpoint style-scope ytd-grid-video-renderer\" href=\"/watch?v=NdftOUuZL2g\" id=\"video-title\" title=\"한기정 공정거래위원장 후보자 국회 인사청문회 - [끝까지 LIVE] MBC 중계방송 2022년 09월 02일\">한기정 공정거래위원장 후보자 국회 인사청문회 - [끝까지 LIVE] MBC 중계방송 2022년 09월 02일</a>,\n",
       " <a aria-label=\"국회 예산결산특별위원회 전체회의 - [끝까지 LIVE] MBC 중계방송 2022년 09월 02일 게시자: MBCNEWS 조회수 6,747회\" class=\"yt-simple-endpoint style-scope ytd-grid-video-renderer\" href=\"/watch?v=-ULcZkp8Oy8\" id=\"video-title\" title=\"국회 예산결산특별위원회 전체회의 - [끝까지 LIVE] MBC 중계방송 2022년 09월 02일\">국회 예산결산특별위원회 전체회의 - [끝까지 LIVE] MBC 중계방송 2022년 09월 02일</a>,\n",
       " <a aria-label=\"한미일 안보수장 회동‥북핵·대만 문제 논의 - [LIVE] MBC 930뉴스 2022년 09월 02일 게시자: MBCNEWS 스트리밍 시간: 5시간 전 13분 47초 조회수 4,447회\" class=\"yt-simple-endpoint style-scope ytd-grid-video-renderer\" href=\"/watch?v=essBYStAm-Q\" id=\"video-title\" title=\"한미일 안보수장 회동‥북핵·대만 문제 논의 - [LIVE] MBC 930뉴스 2022년 09월 02일\">한미일 안보수장 회동‥북핵·대만 문제 논의 - [LIVE] MBC 930뉴스 2022년 09월 02일</a>,\n",
       " <a aria-label=\"누구는 소환하고 누구는 안 하고..너무 티나지 않나요? [뉴스.zip/MBC뉴스] 게시자: MBCNEWS 5시간 전 11분 28초 조회수 287,447회\" class=\"yt-simple-endpoint style-scope ytd-grid-video-renderer\" href=\"/watch?v=Rj28epAkMxI\" id=\"video-title\" title=\"누구는 소환하고 누구는 안 하고..너무 티나지 않나요? [뉴스.zip/MBC뉴스]\">누구는 소환하고 누구는 안 하고..너무 티나지 않나요? [뉴스.zip/MBC뉴스]</a>]"
      ]
     },
     "execution_count": 16,
     "metadata": {},
     "output_type": "execute_result"
    }
   ],
   "source": [
    "soup = BeautifulSoup(html)\n",
    "soup.select(\"#video-title\")"
   ]
  },
  {
   "cell_type": "code",
   "execution_count": 22,
   "id": "75825627-f435-4cf2-8bd2-8c6e35759693",
   "metadata": {},
   "outputs": [
    {
     "data": {
      "text/plain": [
       "'/watch?v=39piv4hb3GY'"
      ]
     },
     "execution_count": 22,
     "metadata": {},
     "output_type": "execute_result"
    }
   ],
   "source": [
    "soup.select(\"#video-title\")[0].get('href')"
   ]
  },
  {
   "cell_type": "code",
   "execution_count": 23,
   "id": "4a045ec7-908e-4020-b33b-10a628d1f802",
   "metadata": {
    "collapsed": true,
    "jupyter": {
     "outputs_hidden": true
    },
    "tags": []
   },
   "outputs": [
    {
     "name": "stdout",
     "output_type": "stream",
     "text": [
      "https://www.youtube.com/watch?v=39piv4hb3GY\n",
      "https://www.youtube.com/watch?v=skXIroad8Gw\n",
      "https://www.youtube.com/watch?v=95Cw7uJCugk\n",
      "https://www.youtube.com/watch?v=g_QsVYBuO0s\n",
      "https://www.youtube.com/watch?v=Hs3OQCm7nHg\n",
      "https://www.youtube.com/watch?v=Q5pR1bVsvL8\n",
      "https://www.youtube.com/watch?v=t89VwZGuqj0\n",
      "https://www.youtube.com/watch?v=LGOWIRMSFGE\n",
      "https://www.youtube.com/watch?v=mAlLCb-ZvmY\n",
      "https://www.youtube.com/watch?v=OLSkSvrr2g8\n",
      "https://www.youtube.com/watch?v=WI0izvx8ZEQ\n",
      "https://www.youtube.com/watch?v=Ost2rKD2e-Y\n",
      "https://www.youtube.com/watch?v=V2Z_wurTDHs\n",
      "https://www.youtube.com/watch?v=7zrAKOFfKMU\n",
      "https://www.youtube.com/watch?v=hjC0OIhdedY\n",
      "https://www.youtube.com/watch?v=6DhXfMBeLFk\n",
      "https://www.youtube.com/watch?v=Rw0kNZcmx_I\n",
      "https://www.youtube.com/watch?v=xPZ6bJr7JKo\n",
      "https://www.youtube.com/watch?v=0JoNOr_c4d4\n",
      "https://www.youtube.com/watch?v=P2LymW4e6fY\n",
      "https://www.youtube.com/watch?v=JvFzsyJdUww\n",
      "https://www.youtube.com/watch?v=IXESPdyNs2k\n",
      "https://www.youtube.com/watch?v=XkY68MvT09U\n",
      "https://www.youtube.com/watch?v=HYs-XkWJbCE\n",
      "https://www.youtube.com/watch?v=IthD6TUrPkc\n",
      "https://www.youtube.com/watch?v=LURRDAbfmOY\n",
      "https://www.youtube.com/watch?v=66hju9VmDr8\n",
      "https://www.youtube.com/watch?v=DmxjdpTXnC4\n",
      "https://www.youtube.com/watch?v=3L6MUhshXMo\n",
      "https://www.youtube.com/watch?v=OYxEoz8zXKY\n"
     ]
    }
   ],
   "source": [
    "my_titles = soup.select(\"#video-title\")\n",
    "\n",
    "links = []\n",
    "\n",
    "for title in my_titles:\n",
    "#     print(title.get('href'))\n",
    "    print(\"https://www.youtube.com\" + title.get('href'))\n",
    "#     links.append(\"https://www.youtube.com\" + title.get('href'))"
   ]
  },
  {
   "cell_type": "code",
   "execution_count": 24,
   "id": "477fabd8-f714-4129-971a-1518357020c8",
   "metadata": {},
   "outputs": [],
   "source": [
    "def get_links():\n",
    "    html = driver.page_source\n",
    "    soup = BeautifulSoup(html)\n",
    "    my_titles = soup.select(\"#video-title\")\n",
    "\n",
    "    links = []\n",
    "    for title in my_titles:\n",
    "        links.append(\"https://www.youtube.com\"+title.get('href'))\n",
    "        \n",
    "    return links"
   ]
  },
  {
   "cell_type": "code",
   "execution_count": 25,
   "id": "1c425f78-151e-4fa6-a790-c30af7c488ec",
   "metadata": {
    "collapsed": true,
    "jupyter": {
     "outputs_hidden": true
    },
    "tags": []
   },
   "outputs": [
    {
     "data": {
      "text/plain": [
       "['https://www.youtube.com/watch?v=39piv4hb3GY',\n",
       " 'https://www.youtube.com/watch?v=skXIroad8Gw',\n",
       " 'https://www.youtube.com/watch?v=95Cw7uJCugk',\n",
       " 'https://www.youtube.com/watch?v=g_QsVYBuO0s',\n",
       " 'https://www.youtube.com/watch?v=Hs3OQCm7nHg',\n",
       " 'https://www.youtube.com/watch?v=Q5pR1bVsvL8',\n",
       " 'https://www.youtube.com/watch?v=t89VwZGuqj0',\n",
       " 'https://www.youtube.com/watch?v=LGOWIRMSFGE',\n",
       " 'https://www.youtube.com/watch?v=mAlLCb-ZvmY',\n",
       " 'https://www.youtube.com/watch?v=OLSkSvrr2g8',\n",
       " 'https://www.youtube.com/watch?v=WI0izvx8ZEQ',\n",
       " 'https://www.youtube.com/watch?v=Ost2rKD2e-Y',\n",
       " 'https://www.youtube.com/watch?v=V2Z_wurTDHs',\n",
       " 'https://www.youtube.com/watch?v=7zrAKOFfKMU',\n",
       " 'https://www.youtube.com/watch?v=hjC0OIhdedY',\n",
       " 'https://www.youtube.com/watch?v=6DhXfMBeLFk',\n",
       " 'https://www.youtube.com/watch?v=Rw0kNZcmx_I',\n",
       " 'https://www.youtube.com/watch?v=xPZ6bJr7JKo',\n",
       " 'https://www.youtube.com/watch?v=0JoNOr_c4d4',\n",
       " 'https://www.youtube.com/watch?v=P2LymW4e6fY',\n",
       " 'https://www.youtube.com/watch?v=JvFzsyJdUww',\n",
       " 'https://www.youtube.com/watch?v=IXESPdyNs2k',\n",
       " 'https://www.youtube.com/watch?v=XkY68MvT09U',\n",
       " 'https://www.youtube.com/watch?v=HYs-XkWJbCE',\n",
       " 'https://www.youtube.com/watch?v=IthD6TUrPkc',\n",
       " 'https://www.youtube.com/watch?v=LURRDAbfmOY',\n",
       " 'https://www.youtube.com/watch?v=66hju9VmDr8',\n",
       " 'https://www.youtube.com/watch?v=DmxjdpTXnC4',\n",
       " 'https://www.youtube.com/watch?v=3L6MUhshXMo',\n",
       " 'https://www.youtube.com/watch?v=OYxEoz8zXKY']"
      ]
     },
     "execution_count": 25,
     "metadata": {},
     "output_type": "execute_result"
    }
   ],
   "source": [
    "get_links()"
   ]
  },
  {
   "cell_type": "markdown",
   "id": "9b084c1f-9ad8-4c26-b3ab-842cd0b681b7",
   "metadata": {
    "tags": []
   },
   "source": [
    "## 크롤링 데이터를 이용한 자료수집"
   ]
  },
  {
   "cell_type": "code",
   "execution_count": 27,
   "id": "444ba91b-7d26-44a8-add1-c7ce4cc2cc37",
   "metadata": {},
   "outputs": [],
   "source": [
    "youtube_links = get_links()"
   ]
  },
  {
   "cell_type": "code",
   "execution_count": 28,
   "id": "c0a121aa-ac67-4f37-8fe4-bc54fa7c706c",
   "metadata": {},
   "outputs": [
    {
     "data": {
      "text/plain": [
       "'https://www.youtube.com/watch?v=39piv4hb3GY'"
      ]
     },
     "execution_count": 28,
     "metadata": {},
     "output_type": "execute_result"
    }
   ],
   "source": [
    "youtube_links[0]"
   ]
  },
  {
   "cell_type": "code",
   "execution_count": 29,
   "id": "87ad4c22-b029-4e23-afd6-55c421a8666d",
   "metadata": {},
   "outputs": [],
   "source": [
    "temp = youtube_links[0]"
   ]
  },
  {
   "cell_type": "code",
   "execution_count": 30,
   "id": "ca693404-f233-41ae-bd19-5117bc317e68",
   "metadata": {},
   "outputs": [
    {
     "data": {
      "text/plain": [
       "[<Stream: itag=\"18\" mime_type=\"video/mp4\" res=\"360p\" fps=\"30fps\" vcodec=\"avc1.42001E\" acodec=\"mp4a.40.2\" progressive=\"True\" type=\"video\">, <Stream: itag=\"22\" mime_type=\"video/mp4\" res=\"720p\" fps=\"30fps\" vcodec=\"avc1.64001F\" acodec=\"mp4a.40.2\" progressive=\"True\" type=\"video\">, <Stream: itag=\"137\" mime_type=\"video/mp4\" res=\"1080p\" fps=\"30fps\" vcodec=\"avc1.640028\" progressive=\"False\" type=\"video\">, <Stream: itag=\"136\" mime_type=\"video/mp4\" res=\"720p\" fps=\"30fps\" vcodec=\"avc1.64001f\" progressive=\"False\" type=\"video\">, <Stream: itag=\"135\" mime_type=\"video/mp4\" res=\"480p\" fps=\"30fps\" vcodec=\"avc1.4d401f\" progressive=\"False\" type=\"video\">, <Stream: itag=\"134\" mime_type=\"video/mp4\" res=\"360p\" fps=\"30fps\" vcodec=\"avc1.4d401e\" progressive=\"False\" type=\"video\">, <Stream: itag=\"133\" mime_type=\"video/mp4\" res=\"240p\" fps=\"30fps\" vcodec=\"avc1.4d4015\" progressive=\"False\" type=\"video\">, <Stream: itag=\"160\" mime_type=\"video/mp4\" res=\"144p\" fps=\"30fps\" vcodec=\"avc1.4d400c\" progressive=\"False\" type=\"video\">, <Stream: itag=\"139\" mime_type=\"audio/mp4\" abr=\"48kbps\" acodec=\"mp4a.40.5\" progressive=\"False\" type=\"audio\">, <Stream: itag=\"140\" mime_type=\"audio/mp4\" abr=\"128kbps\" acodec=\"mp4a.40.2\" progressive=\"False\" type=\"audio\">]"
      ]
     },
     "execution_count": 30,
     "metadata": {},
     "output_type": "execute_result"
    }
   ],
   "source": [
    "# yt.streams.filter(file_extension='mp4')\n",
    "YouTube(temp).streams.filter(file_extension='mp4')"
   ]
  },
  {
   "cell_type": "code",
   "execution_count": 31,
   "id": "7f21d2b5-b5d1-4a8c-b1a0-3467264bc20d",
   "metadata": {},
   "outputs": [
    {
     "data": {
      "text/plain": [
       "'/Users/zel0rd/Documents/강의/대검사이버수사/04. 데이터 수집기술/상하이 이후 최대 규모 봉쇄‥시진핑 3연임 앞두고 방역총력전 (20220901뉴스데스크MBC).mp4'"
      ]
     },
     "execution_count": 31,
     "metadata": {},
     "output_type": "execute_result"
    }
   ],
   "source": [
    "stream = YouTube(temp).streams.filter(file_extension='mp4')[0]\n",
    "stream.download()"
   ]
  },
  {
   "cell_type": "code",
   "execution_count": 38,
   "id": "11e800c2-4aae-4153-b57c-7ce1ca6aff30",
   "metadata": {
    "tags": []
   },
   "outputs": [
    {
     "name": "stdout",
     "output_type": "stream",
     "text": [
      "Download complete https://www.youtube.com/watch?v=39piv4hb3GY\n",
      "Download complete https://www.youtube.com/watch?v=skXIroad8Gw\n",
      "Download complete https://www.youtube.com/watch?v=95Cw7uJCugk\n"
     ]
    }
   ],
   "source": [
    "for link in youtube_links[:3]:\n",
    "    try:\n",
    "        # YouTube(link).streams.first().download()\n",
    "        stream = YouTube(link).streams.filter(file_extension='mp4')[0]\n",
    "        stream.download(output_path='./videos')\n",
    "        # print(stream.default_filename)\n",
    "        # os.rename(stream.default_filename, './videos/' + stream.default_filename)\n",
    "        print(\"Download complete \" + str(link))\n",
    "    except:\n",
    "        print('Fail', str(link))\n",
    "    # yt = YouTube(link)\n",
    "    # stream  = yt.streams.first()\n",
    "    # stream.download()"
   ]
  },
  {
   "cell_type": "code",
   "execution_count": 33,
   "id": "a5352786-ef49-42c0-95f1-fff57c653a59",
   "metadata": {},
   "outputs": [],
   "source": [
    "driver.close()"
   ]
  },
  {
   "cell_type": "code",
   "execution_count": null,
   "id": "59afc1e5-84cc-42e2-b19d-05cacb613de7",
   "metadata": {
    "collapsed": true,
    "jupyter": {
     "outputs_hidden": true
    },
    "tags": []
   },
   "outputs": [
    {
     "name": "stderr",
     "output_type": "stream",
     "text": [
      "/var/folders/t6/j7wv8qls0v5_j2dh9m_bwc900000gn/T/ipykernel_948/3146278514.py:21: DeprecationWarning: executable_path has been deprecated, please pass in a Service object\n",
      "  driver = webdriver.Chrome(DRIVER_DIR)\n"
     ]
    },
    {
     "name": "stdout",
     "output_type": "stream",
     "text": [
      "['https://www.youtube.com//watch?v=cYNq-2OibnE', 'https://www.youtube.com//shorts/8Q28Rc2c3vk', 'https://www.youtube.com//watch?v=OR06yNWyp-w', 'https://www.youtube.com//watch?v=DYzvgoAj5ds', 'https://www.youtube.com//watch?v=xwlTLyrQAD8', 'https://www.youtube.com//watch?v=mDjZw_kiQcU', 'https://www.youtube.com//watch?v=drgIOtxBODE', 'https://www.youtube.com//watch?v=8yy1_GfprCc', 'https://www.youtube.com//watch?v=7zpXtNy5IH8', 'https://www.youtube.com//watch?v=T7AZdORkGPM', 'https://www.youtube.com//watch?v=0n7tdnc_Uwk', 'https://www.youtube.com//watch?v=CT2UrLqGwhI', 'https://www.youtube.com//watch?v=Zpla8Jo9pk8', 'https://www.youtube.com//shorts/nVpnnXtO_AE', 'https://www.youtube.com//watch?v=jFDYwL3ukGI', 'https://www.youtube.com//watch?v=ROLgtaCayyM', 'https://www.youtube.com//shorts/ZP2HVwSqrjg', 'https://www.youtube.com//watch?v=SFRxf38KbxY', 'https://www.youtube.com//watch?v=VxAJSheQcvo', 'https://www.youtube.com//shorts/3bp6fNH02D0', 'https://www.youtube.com//watch?v=KbYiHKxyFj4', 'https://www.youtube.com//watch?v=4emdu1T8gwQ', 'https://www.youtube.com//watch?v=hAdunQk4x3o', 'https://www.youtube.com//watch?v=ZudMXtlPbXM', 'https://www.youtube.com//watch?v=_HXm78losyU', 'https://www.youtube.com//watch?v=NdftOUuZL2g', 'https://www.youtube.com//watch?v=-ULcZkp8Oy8', 'https://www.youtube.com//watch?v=essBYStAm-Q', 'https://www.youtube.com//watch?v=Rj28epAkMxI', 'https://www.youtube.com//watch?v=KnY265J8GLI', 'https://www.youtube.com//watch?v=2yG05r7rVlU', 'https://www.youtube.com//shorts/-IxAyDoDRo0', 'https://www.youtube.com//watch?v=M7F3BKJqQRk', 'https://www.youtube.com//shorts/pQp2wX54V8M', 'https://www.youtube.com//watch?v=dLCNElnzz6I', 'https://www.youtube.com//watch?v=du4dtfunQkU', 'https://www.youtube.com//watch?v=gR6pzbp4TAU', 'https://www.youtube.com//watch?v=CR2QL6agsTc', 'https://www.youtube.com//watch?v=A3eeYsVb4Lo', 'https://www.youtube.com//watch?v=9XV36mESBkU', 'https://www.youtube.com//watch?v=AAnuActVFqY', 'https://www.youtube.com//watch?v=MXHD1ajUO9U', 'https://www.youtube.com//watch?v=XPvcfoBqkcU', 'https://www.youtube.com//watch?v=LnWNCq7nhNs', 'https://www.youtube.com//watch?v=jFvxkaxPBa0', 'https://www.youtube.com//watch?v=MdpulhfNMqQ', 'https://www.youtube.com//watch?v=TdzezRp-JQ8', 'https://www.youtube.com//watch?v=BeMpk9_EoSw', 'https://www.youtube.com//watch?v=005PqPMF-R8', 'https://www.youtube.com//watch?v=2BsiwDajMbE', 'https://www.youtube.com//watch?v=LdOu5ZyxcyU', 'https://www.youtube.com//watch?v=OIPJIRU6eeI', 'https://www.youtube.com//watch?v=OyWwoUQWuf4', 'https://www.youtube.com//shorts/3bJQWG6WKwo', 'https://www.youtube.com//watch?v=G1pSyLHxHsc', 'https://www.youtube.com//watch?v=O9ks1XVUoRg', 'https://www.youtube.com//watch?v=qABk4JzhqSw', 'https://www.youtube.com//watch?v=btAiQkm2q-Q', 'https://www.youtube.com//watch?v=ME2shCiJLZU', 'https://www.youtube.com//watch?v=ClOAHnqOGxw', 'https://www.youtube.com//shorts/195Dj8kNo1c', 'https://www.youtube.com//watch?v=i-FbFmURC04', 'https://www.youtube.com//watch?v=o9_FJsDFjpk', 'https://www.youtube.com//watch?v=ihlaDmDNQ-E', 'https://www.youtube.com//watch?v=wsaxYMtQP88', 'https://www.youtube.com//watch?v=cmmP3tiSQuc', 'https://www.youtube.com//watch?v=9hEPsxCOqmI', 'https://www.youtube.com//watch?v=L392eztAE-8', 'https://www.youtube.com//watch?v=-AB-UQnM2iU', 'https://www.youtube.com//watch?v=qWngGEk0x3A', 'https://www.youtube.com//watch?v=-vjfAiIH7nA', 'https://www.youtube.com//shorts/clrHK_sUjYk', 'https://www.youtube.com//watch?v=b4WWnDq3_Bs', 'https://www.youtube.com//watch?v=LYxeIaSXwVw', 'https://www.youtube.com//shorts/I9Cjm5t5g_g', 'https://www.youtube.com//shorts/96KtctpRSMc', 'https://www.youtube.com//watch?v=4-MILn8kSjI', 'https://www.youtube.com//watch?v=a3J-soY05Xc', 'https://www.youtube.com//watch?v=SN-V_bMc7h4', 'https://www.youtube.com//watch?v=f4IMuOJ9Zxo', 'https://www.youtube.com//watch?v=nhLa_vrwQjA', 'https://www.youtube.com//watch?v=2UZA3N040Qw', 'https://www.youtube.com//watch?v=wry1llckNGM', 'https://www.youtube.com//watch?v=2aQ2GPKe2tU', 'https://www.youtube.com//watch?v=tH-xH1662fw', 'https://www.youtube.com//watch?v=SKiDplCQABU', 'https://www.youtube.com//watch?v=PFmaa5OlFrU', 'https://www.youtube.com//watch?v=WaX88wfmp2Y', 'https://www.youtube.com//shorts/GDlZLLbJzLc', 'https://www.youtube.com//watch?v=JTwutiDbWEo', 'https://www.youtube.com//watch?v=Qf8q_tz90pU', 'https://www.youtube.com//watch?v=MebGI0UVJeQ', 'https://www.youtube.com//watch?v=hy12SdS1Y9g', 'https://www.youtube.com//watch?v=l2NuJvd4lxk', 'https://www.youtube.com//watch?v=iAzaf1XoD9w', 'https://www.youtube.com//watch?v=OOEy_oSkLn0', 'https://www.youtube.com//watch?v=hRHGsmKSovc', 'https://www.youtube.com//watch?v=Ar18oP4P3R0', 'https://www.youtube.com//watch?v=X1tsRvdfaCQ', 'https://www.youtube.com//watch?v=xcpsPPsgD70', 'https://www.youtube.com//watch?v=Hhs_HdXTpsM', 'https://www.youtube.com//watch?v=M5GB7JSFsAI', 'https://www.youtube.com//watch?v=GRY_FEf_OuY', 'https://www.youtube.com//watch?v=39piv4hb3GY', 'https://www.youtube.com//watch?v=skXIroad8Gw', 'https://www.youtube.com//watch?v=95Cw7uJCugk', 'https://www.youtube.com//watch?v=g_QsVYBuO0s', 'https://www.youtube.com//watch?v=Hs3OQCm7nHg', 'https://www.youtube.com//watch?v=Q5pR1bVsvL8', 'https://www.youtube.com//watch?v=t89VwZGuqj0', 'https://www.youtube.com//watch?v=LGOWIRMSFGE', 'https://www.youtube.com//watch?v=mAlLCb-ZvmY', 'https://www.youtube.com//watch?v=OLSkSvrr2g8', 'https://www.youtube.com//watch?v=WI0izvx8ZEQ', 'https://www.youtube.com//watch?v=Ost2rKD2e-Y', 'https://www.youtube.com//watch?v=V2Z_wurTDHs', 'https://www.youtube.com//watch?v=7zrAKOFfKMU', 'https://www.youtube.com//watch?v=hjC0OIhdedY', 'https://www.youtube.com//watch?v=6DhXfMBeLFk', 'https://www.youtube.com//watch?v=Rw0kNZcmx_I']\n",
      "120\n",
      "Fail https://www.youtube.com//watch?v=cYNq-2OibnE\n",
      "Download complete 2/120\n",
      "Download complete 3/120\n",
      "Download complete 4/120\n",
      "Download complete 5/120\n",
      "Download complete 6/120\n",
      "Download complete 7/120\n",
      "Download complete 8/120\n",
      "Fail https://www.youtube.com//watch?v=7zpXtNy5IH8\n",
      "Fail https://www.youtube.com//watch?v=T7AZdORkGPM\n",
      "Fail https://www.youtube.com//watch?v=0n7tdnc_Uwk\n",
      "Fail https://www.youtube.com//watch?v=CT2UrLqGwhI\n",
      "Fail https://www.youtube.com//watch?v=Zpla8Jo9pk8\n",
      "Fail https://www.youtube.com//shorts/nVpnnXtO_AE\n",
      "Fail https://www.youtube.com//watch?v=jFDYwL3ukGI\n",
      "Fail https://www.youtube.com//watch?v=ROLgtaCayyM\n",
      "Fail https://www.youtube.com//shorts/ZP2HVwSqrjg\n",
      "Fail https://www.youtube.com//watch?v=SFRxf38KbxY\n",
      "Fail https://www.youtube.com//watch?v=VxAJSheQcvo\n",
      "Fail https://www.youtube.com//shorts/3bp6fNH02D0\n",
      "Fail https://www.youtube.com//watch?v=KbYiHKxyFj4\n",
      "Fail https://www.youtube.com//watch?v=4emdu1T8gwQ\n",
      "Fail https://www.youtube.com//watch?v=hAdunQk4x3o\n",
      "Fail https://www.youtube.com//watch?v=ZudMXtlPbXM\n",
      "Fail https://www.youtube.com//watch?v=_HXm78losyU\n",
      "Fail https://www.youtube.com//watch?v=NdftOUuZL2g\n",
      "Fail https://www.youtube.com//watch?v=-ULcZkp8Oy8\n",
      "Fail https://www.youtube.com//watch?v=essBYStAm-Q\n"
     ]
    }
   ],
   "source": [
    "\n",
    "def get_links():\n",
    "    html = driver.page_source\n",
    "    soup = BeautifulSoup(html)\n",
    "    my_titles = soup.select(\n",
    "        'h3 > a'\n",
    "        )\n",
    "\n",
    "    links = []\n",
    "    for title in my_titles:\n",
    "        links.append(\"https://www.youtube.com\"+title.get('href'))\n",
    "\n",
    "    return links\n",
    "\n",
    "driver = webdriver.Chrome(DRIVER_DIR)\n",
    "driver.implicitly_wait(5)\n",
    "driver.get(url)\n",
    "elem = driver.find_element(By.TAG_NAME, \"body\")\n",
    "\n",
    "pagedowns = 1\n",
    "while pagedowns < 10:\n",
    "        elem.send_keys(Keys.PAGE_DOWN)\n",
    "        time.sleep(0.1)\n",
    "        pagedowns += 1\n",
    "\n",
    "links = get_links()\n",
    "\n",
    "    \n",
    "for link in links:\n",
    "    try:\n",
    "        stream = YouTube(link).streams.filter(file_extension='mp4')[0].download(output_path='./videos')\n",
    "        print(\"Download complete \" + str(links.index(link) + 1) + \"/\" + str(len(links)) )\n",
    "    except:\n",
    "        print('Fail', str(link))"
   ]
  },
  {
   "cell_type": "code",
   "execution_count": null,
   "id": "bb0072b2-853b-40e4-a4a9-fd89903c8d0e",
   "metadata": {},
   "outputs": [],
   "source": []
  }
 ],
 "metadata": {
  "kernelspec": {
   "display_name": "Python 3 (ipykernel)",
   "language": "python",
   "name": "python3"
  },
  "language_info": {
   "codemirror_mode": {
    "name": "ipython",
    "version": 3
   },
   "file_extension": ".py",
   "mimetype": "text/x-python",
   "name": "python",
   "nbconvert_exporter": "python",
   "pygments_lexer": "ipython3",
   "version": "3.9.12"
  }
 },
 "nbformat": 4,
 "nbformat_minor": 5
}
